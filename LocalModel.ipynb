{
 "cells": [
  {
   "cell_type": "code",
   "execution_count": null,
   "id": "5a7520e5",
   "metadata": {},
   "outputs": [
    {
     "name": "stdout",
     "output_type": "stream",
     "text": [
      "First few rows of raw data:\n",
      "   0  Electricity:Facility [kW](Hourly)  Fans:Electricity [kW](Hourly)  \\\n",
      "0  0                          22.035977                       3.586221   \n",
      "1  1                          14.649757                       0.000000   \n",
      "2  2                          14.669567                       0.000000   \n",
      "3  3                          14.677808                       0.000000   \n",
      "4  4                          14.824794                       0.000000   \n",
      "\n",
      "   Cooling:Electricity [kW](Hourly)  Heating:Electricity [kW](Hourly)  \\\n",
      "0                               0.0                               0.0   \n",
      "1                               0.0                               0.0   \n",
      "2                               0.0                               0.0   \n",
      "3                               0.0                               0.0   \n",
      "4                               0.0                               0.0   \n",
      "\n",
      "   InteriorLights:Electricity [kW](Hourly)  \\\n",
      "0                                 4.589925   \n",
      "1                                 1.529975   \n",
      "2                                 1.529975   \n",
      "3                                 1.529975   \n",
      "4                                 1.529975   \n",
      "\n",
      "   InteriorEquipment:Electricity [kW](Hourly)  Gas:Facility [kW](Hourly)  \\\n",
      "0                                      8.1892                 136.585903   \n",
      "1                                      7.4902                   3.359880   \n",
      "2                                      7.4902                   3.359880   \n",
      "3                                      7.4902                   3.931932   \n",
      "4                                      7.4902                   3.359880   \n",
      "\n",
      "   Heating:Gas [kW](Hourly)  InteriorEquipment:Gas [kW](Hourly)  \\\n",
      "0                123.999076                             3.33988   \n",
      "1                  0.000000                             3.33988   \n",
      "2                  0.000000                             3.33988   \n",
      "3                  0.000000                             3.33988   \n",
      "4                  0.000000                             3.33988   \n",
      "\n",
      "   Water Heater:WaterSystems:Gas [kW](Hourly)                  Class   theft  \\\n",
      "0                                    9.246947  FullServiceRestaurant  Normal   \n",
      "1                                    0.020000  FullServiceRestaurant  Normal   \n",
      "2                                    0.020000  FullServiceRestaurant  Normal   \n",
      "3                                    0.592052  FullServiceRestaurant  Normal   \n",
      "4                                    0.020000  FullServiceRestaurant  Normal   \n",
      "\n",
      "   timestamp  \n",
      "0        NaN  \n",
      "1        NaN  \n",
      "2        NaN  \n",
      "3        NaN  \n",
      "4        NaN  \n",
      "\n",
      "Column Names in cleaned_data:\n",
      "Index(['0', 'Electricity:Facility [kW](Hourly)',\n",
      "       'Fans:Electricity [kW](Hourly)', 'Cooling:Electricity [kW](Hourly)',\n",
      "       'Heating:Electricity [kW](Hourly)',\n",
      "       'InteriorLights:Electricity [kW](Hourly)',\n",
      "       'InteriorEquipment:Electricity [kW](Hourly)',\n",
      "       'Gas:Facility [kW](Hourly)', 'Heating:Gas [kW](Hourly)',\n",
      "       'InteriorEquipment:Gas [kW](Hourly)',\n",
      "       'Water Heater:WaterSystems:Gas [kW](Hourly)', 'Class', 'timestamp'],\n",
      "      dtype='object')\n",
      "\n",
      "Aggregated Energy Consumption:\n",
      "   Total_Electricity   Total_Gas\n",
      "0          30.212123  273.171805\n",
      "1          16.179733    6.719760\n",
      "2          16.199542    6.719760\n",
      "3          16.207783    7.863863\n",
      "4          16.354769    6.719760\n",
      "\n",
      "Normalized Total Electricity and Gas:\n",
      "   Total_Electricity  Total_Gas\n",
      "0          -0.980060  -0.939183\n",
      "1          -0.990049  -0.998504\n",
      "2          -0.990034  -0.998504\n",
      "3          -0.990029  -0.998249\n",
      "4          -0.989924  -0.998504\n",
      "\n",
      "Train Data Shape: (238913, 17)\n",
      "Validation Data Shape: (26546, 17)\n",
      "Test Data Shape: (66365, 17)\n",
      "\n",
      "X_train Shape: (238889, 24, 4)\n",
      "y_train Shape: (238889,)\n",
      "\n",
      "Model Summary:\n"
     ]
    },
    {
     "name": "stderr",
     "output_type": "stream",
     "text": [
      "C:\\Users\\rionv\\AppData\\Roaming\\Python\\Python311\\site-packages\\keras\\src\\layers\\core\\dense.py:87: UserWarning: Do not pass an `input_shape`/`input_dim` argument to a layer. When using Sequential models, prefer using an `Input(shape)` object as the first layer in the model instead.\n",
      "  super().__init__(activity_regularizer=activity_regularizer, **kwargs)\n"
     ]
    },
    {
     "data": {
      "text/html": [
       "<pre style=\"white-space:pre;overflow-x:auto;line-height:normal;font-family:Menlo,'DejaVu Sans Mono',consolas,'Courier New',monospace\"><span style=\"font-weight: bold\">Model: \"sequential\"</span>\n",
       "</pre>\n"
      ],
      "text/plain": [
       "\u001b[1mModel: \"sequential\"\u001b[0m\n"
      ]
     },
     "metadata": {},
     "output_type": "display_data"
    },
    {
     "data": {
      "text/html": [
       "<pre style=\"white-space:pre;overflow-x:auto;line-height:normal;font-family:Menlo,'DejaVu Sans Mono',consolas,'Courier New',monospace\">┏━━━━━━━━━━━━━━━━━━━━━━━━━━━━━━━━━┳━━━━━━━━━━━━━━━━━━━━━━━━┳━━━━━━━━━━━━━━━┓\n",
       "┃<span style=\"font-weight: bold\"> Layer (type)                    </span>┃<span style=\"font-weight: bold\"> Output Shape           </span>┃<span style=\"font-weight: bold\">       Param # </span>┃\n",
       "┡━━━━━━━━━━━━━━━━━━━━━━━━━━━━━━━━━╇━━━━━━━━━━━━━━━━━━━━━━━━╇━━━━━━━━━━━━━━━┩\n",
       "│ dense (<span style=\"color: #0087ff; text-decoration-color: #0087ff\">Dense</span>)                   │ (<span style=\"color: #00d7ff; text-decoration-color: #00d7ff\">None</span>, <span style=\"color: #00af00; text-decoration-color: #00af00\">24</span>, <span style=\"color: #00af00; text-decoration-color: #00af00\">30</span>)         │           <span style=\"color: #00af00; text-decoration-color: #00af00\">150</span> │\n",
       "├─────────────────────────────────┼────────────────────────┼───────────────┤\n",
       "│ dense_1 (<span style=\"color: #0087ff; text-decoration-color: #0087ff\">Dense</span>)                 │ (<span style=\"color: #00d7ff; text-decoration-color: #00d7ff\">None</span>, <span style=\"color: #00af00; text-decoration-color: #00af00\">24</span>, <span style=\"color: #00af00; text-decoration-color: #00af00\">1</span>)          │            <span style=\"color: #00af00; text-decoration-color: #00af00\">31</span> │\n",
       "└─────────────────────────────────┴────────────────────────┴───────────────┘\n",
       "</pre>\n"
      ],
      "text/plain": [
       "┏━━━━━━━━━━━━━━━━━━━━━━━━━━━━━━━━━┳━━━━━━━━━━━━━━━━━━━━━━━━┳━━━━━━━━━━━━━━━┓\n",
       "┃\u001b[1m \u001b[0m\u001b[1mLayer (type)                   \u001b[0m\u001b[1m \u001b[0m┃\u001b[1m \u001b[0m\u001b[1mOutput Shape          \u001b[0m\u001b[1m \u001b[0m┃\u001b[1m \u001b[0m\u001b[1m      Param #\u001b[0m\u001b[1m \u001b[0m┃\n",
       "┡━━━━━━━━━━━━━━━━━━━━━━━━━━━━━━━━━╇━━━━━━━━━━━━━━━━━━━━━━━━╇━━━━━━━━━━━━━━━┩\n",
       "│ dense (\u001b[38;5;33mDense\u001b[0m)                   │ (\u001b[38;5;45mNone\u001b[0m, \u001b[38;5;34m24\u001b[0m, \u001b[38;5;34m30\u001b[0m)         │           \u001b[38;5;34m150\u001b[0m │\n",
       "├─────────────────────────────────┼────────────────────────┼───────────────┤\n",
       "│ dense_1 (\u001b[38;5;33mDense\u001b[0m)                 │ (\u001b[38;5;45mNone\u001b[0m, \u001b[38;5;34m24\u001b[0m, \u001b[38;5;34m1\u001b[0m)          │            \u001b[38;5;34m31\u001b[0m │\n",
       "└─────────────────────────────────┴────────────────────────┴───────────────┘\n"
      ]
     },
     "metadata": {},
     "output_type": "display_data"
    },
    {
     "data": {
      "text/html": [
       "<pre style=\"white-space:pre;overflow-x:auto;line-height:normal;font-family:Menlo,'DejaVu Sans Mono',consolas,'Courier New',monospace\"><span style=\"font-weight: bold\"> Total params: </span><span style=\"color: #00af00; text-decoration-color: #00af00\">181</span> (724.00 B)\n",
       "</pre>\n"
      ],
      "text/plain": [
       "\u001b[1m Total params: \u001b[0m\u001b[38;5;34m181\u001b[0m (724.00 B)\n"
      ]
     },
     "metadata": {},
     "output_type": "display_data"
    },
    {
     "data": {
      "text/html": [
       "<pre style=\"white-space:pre;overflow-x:auto;line-height:normal;font-family:Menlo,'DejaVu Sans Mono',consolas,'Courier New',monospace\"><span style=\"font-weight: bold\"> Trainable params: </span><span style=\"color: #00af00; text-decoration-color: #00af00\">181</span> (724.00 B)\n",
       "</pre>\n"
      ],
      "text/plain": [
       "\u001b[1m Trainable params: \u001b[0m\u001b[38;5;34m181\u001b[0m (724.00 B)\n"
      ]
     },
     "metadata": {},
     "output_type": "display_data"
    },
    {
     "data": {
      "text/html": [
       "<pre style=\"white-space:pre;overflow-x:auto;line-height:normal;font-family:Menlo,'DejaVu Sans Mono',consolas,'Courier New',monospace\"><span style=\"font-weight: bold\"> Non-trainable params: </span><span style=\"color: #00af00; text-decoration-color: #00af00\">0</span> (0.00 B)\n",
       "</pre>\n"
      ],
      "text/plain": [
       "\u001b[1m Non-trainable params: \u001b[0m\u001b[38;5;34m0\u001b[0m (0.00 B)\n"
      ]
     },
     "metadata": {},
     "output_type": "display_data"
    }
   ],
   "source": [
    "import numpy as np\n",
    "import pandas as pd\n",
    "from sklearn.preprocessing import MinMaxScaler \n",
    "from sklearn.model_selection import train_test_split\n",
    "from   tensorflow.keras.models import Sequential\n",
    "from tensorflow.keras.layers import Dense\n",
    "from tensorflow.keras.optimizers import SGD\n",
    "\n",
    "# Load data\n",
    "data = pd.read_csv('raw_data.csv')\n",
    "print(\"First few rows of raw data:\")\n",
    "print(data.head())\n",
    "\n",
    "# Filter out rows with synthetic thefts\n",
    "cleaned_data = data[data['theft'] == 'Normal']\n",
    "\n",
    "# Drop the 'theft' column (optional)\n",
    "cleaned_data = cleaned_data.drop(columns=['theft'])\n",
    "print(\"\\nColumn Names in cleaned_data:\")\n",
    "print(cleaned_data.columns)\n",
    "\n",
    "# Aggregate energy consumption into hourly totals\n",
    "cleaned_data['Total_Electricity'] = cleaned_data[\n",
    "    ['Electricity:Facility [kW](Hourly)', 'Fans:Electricity [kW](Hourly)', 'Cooling:Electricity [kW](Hourly)', \n",
    "     'Heating:Electricity [kW](Hourly)', 'InteriorLights:Electricity [kW](Hourly)']\n",
    "].sum(axis=1)\n",
    "\n",
    "cleaned_data['Total_Gas'] = cleaned_data[\n",
    "    ['Gas:Facility [kW](Hourly)', 'Heating:Gas [kW](Hourly)', 'InteriorEquipment:Gas [kW](Hourly)', \n",
    "     'Water Heater:WaterSystems:Gas [kW](Hourly)']\n",
    "].sum(axis=1)\n",
    "\n",
    "print(\"\\nAggregated Energy Consumption:\")\n",
    "print(cleaned_data[['Total_Electricity', 'Total_Gas']].head())\n",
    "\n",
    "# Convert timestamp and extract day of week/weekend flag\n",
    "cleaned_data['timestamp'] = pd.to_datetime(cleaned_data['timestamp'])\n",
    "cleaned_data['DayOfWeek'] = cleaned_data['timestamp'].dt.dayofweek\n",
    "cleaned_data['IsWeekend'] = cleaned_data['DayOfWeek'].isin([5, 6]).astype(int)\n",
    "\n",
    "# Normalize energy consumption columns\n",
    "scaler = MinMaxScaler(feature_range=(-1, 1))\n",
    "normalized_data = cleaned_data.copy()\n",
    "normalized_data[['Total_Electricity', 'Total_Gas']] = scaler.fit_transform(\n",
    "    cleaned_data[['Total_Electricity', 'Total_Gas']]\n",
    ")\n",
    "\n",
    "print(\"\\nNormalized Total Electricity and Gas:\")\n",
    "print(normalized_data[['Total_Electricity', 'Total_Gas']].head())\n",
    "\n",
    "# Split data into train, validation, and test sets\n",
    "train_data, test_data = train_test_split(normalized_data, test_size=1/5, shuffle=False)\n",
    "train_data, val_data = train_test_split(train_data, test_size=0.1, shuffle=False)\n",
    "\n",
    "print(\"\\nTrain Data Shape:\", train_data.shape)\n",
    "print(\"Validation Data Shape:\", val_data.shape)\n",
    "print(\"Test Data Shape:\", test_data.shape)\n",
    "\n",
    "# Create input features for the MLP model\n",
    "def create_input_features(data):\n",
    "    X, y = [], []\n",
    "    for i in range(len(data) - 24):  # Use a sliding window of 24 hours\n",
    "        X.append(data.iloc[i:i+24][['Total_Electricity', 'Total_Gas', 'DayOfWeek', 'IsWeekend']].values)\n",
    "        y.append(data.iloc[i+24]['Total_Electricity'])  # Predict next hour's electricity consumption\n",
    "    return np.array(X), np.array(y)\n",
    "\n",
    "X_train, y_train = create_input_features(train_data)\n",
    "X_val, y_val = create_input_features(val_data)\n",
    "X_test, y_test = create_input_features(test_data)\n",
    "\n",
    "print(\"\\nX_train Shape:\", X_train.shape)\n",
    "print(\"y_train Shape:\", y_train.shape)\n",
    "\n",
    "# Build the MLP model\n",
    "def build_mlp_model(input_shape):\n",
    "    model = Sequential([\n",
    "        Dense(30, activation='relu', input_shape=input_shape),  # Hidden layer with 30 neurons\n",
    "        Dense(1, activation='linear')  # Output layer for regression\n",
    "    ])\n",
    "    model.compile(optimizer=SGD(learning_rate=0.01), loss='mse')\n",
    "    return model\n",
    "\n",
    "model = build_mlp_model(input_shape=(X_train.shape[1], X_train.shape[2]))\n",
    "print(\"\\nModel Summary:\")\n",
    "model.summary()"
   ]
  }
 ],
 "metadata": {
  "kernelspec": {
   "display_name": "Python 3",
   "language": "python",
   "name": "python3"
  },
  "language_info": {
   "codemirror_mode": {
    "name": "ipython",
    "version": 3
   },
   "file_extension": ".py",
   "mimetype": "text/x-python",
   "name": "python",
   "nbconvert_exporter": "python",
   "pygments_lexer": "ipython3",
   "version": "3.11.9"
  }
 },
 "nbformat": 4,
 "nbformat_minor": 5
}
